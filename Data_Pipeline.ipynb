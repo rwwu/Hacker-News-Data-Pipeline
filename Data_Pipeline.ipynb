{
 "cells": [
  {
   "cell_type": "markdown",
   "metadata": {},
   "source": [
    "The goal of this project is to create a multi-dependency data pipeline that identifies the top 100 keywords in the Hacker News posts in 2014.\n",
    "\n",
    "Steps in the pipeline:\n",
    "- retrieve data from the JSON file\n",
    "- segment posts that are popular\n",
    "- convert data to csv\n",
    "- extract 'title' column from data\n",
    "- standardize words in the from 'title'\n",
    "- build a word frequency dictionary\n",
    "- identify top 100 words in the dictionary"
   ]
  },
  {
   "cell_type": "code",
   "execution_count": 1,
   "metadata": {},
   "outputs": [],
   "source": [
    "from pipeline import Pipeline, build_csv\n",
    "import json\n",
    "import io\n",
    "from datetime import datetime\n",
    "import csv\n",
    "import string\n",
    "from stop_words import stop_words"
   ]
  },
  {
   "cell_type": "code",
   "execution_count": 2,
   "metadata": {},
   "outputs": [],
   "source": [
    "pipeline = Pipeline()\n",
    "\n",
    "@pipeline.task()\n",
    "def files_to_json():\n",
    "    with open('hn_stories_2014.json', 'r') as f:\n",
    "        data = json.load(f)\n",
    "        stories = data['stories']\n",
    "    return stories"
   ]
  },
  {
   "cell_type": "code",
   "execution_count": 3,
   "metadata": {},
   "outputs": [],
   "source": [
    "@pipeline.task(depends_on = files_to_json)\n",
    "def filter_stories(stories):\n",
    "    def is_popular(story):\n",
    "        return story['points'] > 50 and story['num_comments'] > 1 and not story['title'].startswith('Ask HN')\n",
    "    \n",
    "    return (\n",
    "        story for story in stories\n",
    "        if is_popular(story)\n",
    "    )"
   ]
  },
  {
   "cell_type": "code",
   "execution_count": 4,
   "metadata": {},
   "outputs": [],
   "source": [
    "@pipeline.task(depends_on = filter_stories)\n",
    "def json_to_csv(stories):\n",
    "    header = ['objectID', 'created_at', 'url', 'points', 'title']\n",
    "    lines = []\n",
    "    for story in stories:\n",
    "        created_at = datetime.strptime(story['created_at'], \"%Y-%m-%dT%H:%M:%SZ\")\n",
    "        lines.append((story['objectID'], created_at, story['url'], \n",
    "                     story['points'], story['title']))\n",
    "    return build_csv(lines, header = header, file = io.StringIO())"
   ]
  },
  {
   "cell_type": "code",
   "execution_count": 5,
   "metadata": {},
   "outputs": [],
   "source": [
    "@pipeline.task(depends_on = json_to_csv)\n",
    "def extract_titles(csv_file):\n",
    "    reader = csv.reader(csv_file)\n",
    "    header = next(reader)\n",
    "    idx = header.index('title')\n",
    "    return (line[idx] for line in reader)"
   ]
  },
  {
   "cell_type": "code",
   "execution_count": 6,
   "metadata": {},
   "outputs": [],
   "source": [
    "@pipeline.task(depends_on = extract_titles)\n",
    "def clean_titles(titles):\n",
    "    for title in titles:\n",
    "        title = title.lower()\n",
    "        for punctuation in string.punctuation:\n",
    "            title = title.replace(punctuation, '')\n",
    "        yield title"
   ]
  },
  {
   "cell_type": "code",
   "execution_count": 7,
   "metadata": {},
   "outputs": [],
   "source": [
    "@pipeline.task(depends_on = clean_titles)\n",
    "def build_key_word_dictionary(titles):\n",
    "    word_freq = {}\n",
    "    for title in titles:\n",
    "        words = title.split()\n",
    "        for word in words:\n",
    "            if word not in stop_words:\n",
    "                if word in word_freq:\n",
    "                    word_freq[word] += 1\n",
    "                else:\n",
    "                    word_freq[word] = 1\n",
    "    return word_freq"
   ]
  },
  {
   "cell_type": "code",
   "execution_count": 8,
   "metadata": {},
   "outputs": [],
   "source": [
    "@pipeline.task(depends_on = build_key_word_dictionary)\n",
    "def sort_top_words(word_dict):\n",
    "    sorted_freq = [(word, word_dict[word])\n",
    "                    for word in sorted(word_dict, key = word_dict.get, reverse = True)]\n",
    "    return sorted_freq[:100]"
   ]
  },
  {
   "cell_type": "code",
   "execution_count": 9,
   "metadata": {},
   "outputs": [
    {
     "name": "stdout",
     "output_type": "stream",
     "text": [
      "[('new', 185), ('google', 167), ('bitcoin', 101), ('open', 92), ('programming', 90), ('web', 88), ('data', 85), ('video', 79), ('python', 76), ('code', 72), ('facebook', 71), ('released', 71), ('using', 70), ('2013', 65), ('javascript', 65), ('free', 64), ('source', 64), ('game', 63), ('internet', 62), ('microsoft', 59), ('c', 59), ('linux', 58), ('app', 57), ('pdf', 55), ('work', 54), ('language', 54), ('software', 52), ('2014', 52), ('startup', 51), ('apple', 50), ('use', 50), ('make', 50), ('time', 48), ('yc', 48), ('security', 48), ('nsa', 45), ('github', 45), ('windows', 44), ('1', 41), ('world', 41), ('way', 41), ('like', 41), ('project', 40), ('computer', 40), ('heartbleed', 40), ('git', 37), ('users', 37), ('dont', 37), ('design', 37), ('ios', 37), ('developer', 36), ('os', 36), ('twitter', 36), ('ceo', 36), ('vs', 36), ('life', 36), ('big', 35), ('day', 35), ('android', 34), ('online', 34), ('years', 33), ('simple', 33), ('court', 33), ('guide', 32), ('learning', 32), ('mt', 32), ('api', 32), ('says', 32), ('apps', 32), ('browser', 32), ('server', 31), ('firefox', 31), ('fast', 31), ('amazon', 31), ('gox', 31), ('problem', 31), ('mozilla', 31), ('engine', 31), ('site', 31), ('introducing', 30), ('year', 30), ('support', 29), ('stop', 29), ('built', 29), ('better', 29), ('million', 29), ('people', 29), ('text', 29), ('3', 28), ('does', 28), ('tech', 28), ('development', 28), ('billion', 27), ('developers', 27), ('just', 27), ('library', 27), ('did', 27), ('website', 27), ('money', 27), ('inside', 27)]\n"
     ]
    }
   ],
   "source": [
    "output = pipeline.run()\n",
    "print(output[sort_top_words])"
   ]
  },
  {
   "cell_type": "code",
   "execution_count": null,
   "metadata": {},
   "outputs": [],
   "source": []
  }
 ],
 "metadata": {
  "anaconda-cloud": {},
  "kernelspec": {
   "display_name": "Python 3",
   "language": "python",
   "name": "python3"
  },
  "language_info": {
   "codemirror_mode": {
    "name": "ipython",
    "version": 3
   },
   "file_extension": ".py",
   "mimetype": "text/x-python",
   "name": "python",
   "nbconvert_exporter": "python",
   "pygments_lexer": "ipython3",
   "version": "3.8.2"
  }
 },
 "nbformat": 4,
 "nbformat_minor": 1
}
